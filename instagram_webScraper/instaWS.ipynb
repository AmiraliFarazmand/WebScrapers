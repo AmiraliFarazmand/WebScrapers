{
 "cells": [
  {
   "cell_type": "code",
   "execution_count": 80,
   "id": "9a1cdc28",
   "metadata": {
    "id": "9a1cdc28"
   },
   "outputs": [],
   "source": [
    "#essensial to install instagram-scraper package!\n",
    "import requests\n",
    "import selenium\n",
    "from selenium import webdriver\n",
    "from bs4 import BeautifulSoup\n",
    "import threading \n",
    "import time\n",
    "import os\n",
    "import json\n",
    "import pandas as pd\n",
    "from tkinter import *"
   ]
  },
  {
   "cell_type": "code",
   "execution_count": 99,
   "id": "08b44820",
   "metadata": {},
   "outputs": [],
   "source": [
    "start = time.perf_counter()"
   ]
  },
  {
   "cell_type": "code",
   "execution_count": 101,
   "id": "10fe26e4",
   "metadata": {},
   "outputs": [
    {
     "data": {
      "text/plain": [
       "0"
      ]
     },
     "execution_count": 101,
     "metadata": {},
     "output_type": "execute_result"
    }
   ],
   "source": [
    "os.system('pip install instagram-scraper')"
   ]
  },
  {
   "cell_type": "code",
   "execution_count": 45,
   "id": "27988158",
   "metadata": {
    "id": "27988158"
   },
   "outputs": [
    {
     "name": "stdout",
     "output_type": "stream",
     "text": [
      "Eter the HASHTAG :پایتخت\n",
      "Enter n(number of pages):2\n",
      "Enter m(number of pages):2\n",
      "Enter your USERNAMEitz.frzz\n",
      "Enter your PASSWORDpassword1234\n",
      "Wait a few minutes...\n"
     ]
    }
   ],
   "source": [
    "'''<<<<<<<<<<<<<<<<<<<<<<<<<<<<<<<<<<<<<<<<<<<<<Main>>>>>>>>>>>>>>>>>>>>>>>>>>>>>>>>>>>>>>>>>>>>>>>>>>>>>'''\n",
    "hashtag = input('Eter the HASHTAG : ')\n",
    "n= int(input('Enter n(number of pages): '))\n",
    "m= int(input('Enter m(number of pages): '))\n",
    "\n",
    "username=input('Enter your USERNAME: ')\n",
    "password=input('Enter your PASSWORD: ')\n",
    "print('Wait a few minutes...')\n",
    "COMMAND='instagram-scraper --media-metadata -u {} -p {} {} --media-types none --comments  --maximum {}'\n"
   ]
  },
  {
   "cell_type": "code",
   "execution_count": 47,
   "id": "64887af0",
   "metadata": {
    "id": "64887af0",
    "outputId": "36a73f28-7802-4754-923b-fb9e277f0729"
   },
   "outputs": [
    {
     "name": "stderr",
     "output_type": "stream",
     "text": [
      "C:\\Users\\Faraz\\AppData\\Local\\Temp/ipykernel_9240/483932838.py:1: DeprecationWarning: executable_path has been deprecated, please pass in a Service object\n",
      "  browser = webdriver.Edge(\"D:\\IUST works\\python\\instagram scrapper\\mine\\msedgedriver.exe\")\n"
     ]
    }
   ],
   "source": [
    "\n",
    "browser = webdriver.Edge(\"D:\\IUST works\\python\\instagram scrapper\\mine\\msedgedriver.exe\")\n",
    "browser.maximize_window()\n",
    "\n",
    "browser.get('https://www.instagram.com/')\n",
    "time.sleep(5)"
   ]
  },
  {
   "cell_type": "code",
   "execution_count": 48,
   "id": "ba513a4d",
   "metadata": {
    "id": "ba513a4d",
    "outputId": "8ce221c7-e102-49ac-8926-bf6104942d26"
   },
   "outputs": [
    {
     "name": "stderr",
     "output_type": "stream",
     "text": [
      "C:\\Users\\Faraz\\AppData\\Local\\Temp/ipykernel_9240/481142311.py:2: DeprecationWarning: find_element_by_* commands are deprecated. Please use find_element() instead\n",
      "  username_sec= browser.find_element_by_xpath(xpath)\n"
     ]
    }
   ],
   "source": [
    "xpath='//*[@id=\"loginForm\"]/div/div[1]/div/label/input'\n",
    "username_sec= browser.find_element_by_xpath(xpath)\n",
    "username_sec.send_keys(username)\n",
    "time.sleep(0.5)"
   ]
  },
  {
   "cell_type": "code",
   "execution_count": 49,
   "id": "5753e35e",
   "metadata": {
    "id": "5753e35e",
    "outputId": "0e3027fe-cb3d-4906-d119-80ae06b8b363"
   },
   "outputs": [
    {
     "name": "stderr",
     "output_type": "stream",
     "text": [
      "C:\\Users\\Faraz\\AppData\\Local\\Temp/ipykernel_9240/1373239243.py:2: DeprecationWarning: find_element_by_* commands are deprecated. Please use find_element() instead\n",
      "  password_sec = browser.find_element_by_xpath(xpath)\n"
     ]
    }
   ],
   "source": [
    "xpath = '//*[@id=\"loginForm\"]/div/div[2]/div/label/input'\n",
    "password_sec = browser.find_element_by_xpath(xpath)\n",
    "password_sec.send_keys(password)\n",
    "time.sleep(0.5)"
   ]
  },
  {
   "cell_type": "code",
   "execution_count": 50,
   "id": "8fd9721b",
   "metadata": {
    "id": "8fd9721b",
    "outputId": "397afb6d-5d85-4ccc-dcad-f4874cb08fb5"
   },
   "outputs": [
    {
     "name": "stderr",
     "output_type": "stream",
     "text": [
      "C:\\Users\\Faraz\\AppData\\Local\\Temp/ipykernel_9240/3626591600.py:2: DeprecationWarning: find_element_by_* commands are deprecated. Please use find_element() instead\n",
      "  login_btn = browser.find_element_by_xpath(xpath)\n"
     ]
    }
   ],
   "source": [
    "xpath='//*[@id=\"loginForm\"]/div/div[3]/button'\n",
    "login_btn = browser.find_element_by_xpath(xpath)\n",
    "login_btn.click()\n",
    "time.sleep(5)"
   ]
  },
  {
   "cell_type": "code",
   "execution_count": 51,
   "id": "f923d61b",
   "metadata": {
    "id": "f923d61b",
    "outputId": "ed2166f2-2297-418e-c7ca-2bdceea80962"
   },
   "outputs": [
    {
     "name": "stderr",
     "output_type": "stream",
     "text": [
      "C:\\Users\\Faraz\\AppData\\Local\\Temp/ipykernel_9240/1055362094.py:2: DeprecationWarning: find_element_by_* commands are deprecated. Please use find_element() instead\n",
      "  search_box=browser.find_element_by_xpath(xpath)\n"
     ]
    }
   ],
   "source": [
    "xpath='//*[@id=\"react-root\"]/section/nav/div[2]/div/div/div[2]/input'\n",
    "search_box=browser.find_element_by_xpath(xpath)\n",
    "search_box.send_keys('#'+hashtag)\n",
    "time.sleep(10)"
   ]
  },
  {
   "cell_type": "code",
   "execution_count": 52,
   "id": "3dcad49d",
   "metadata": {
    "id": "3dcad49d"
   },
   "outputs": [
    {
     "name": "stderr",
     "output_type": "stream",
     "text": [
      "C:\\Users\\Faraz\\AppData\\Local\\Temp/ipykernel_9240/1363959961.py:2: DeprecationWarning: find_element_by_* commands are deprecated. Please use find_element() instead\n",
      "  first =browser.find_element_by_xpath(xpath)\n"
     ]
    }
   ],
   "source": [
    "xpath='//*[@id=\"react-root\"]/section/nav/div[2]/div/div/div[2]/div[3]/div/div[2]/div/div[1]/a/div'\n",
    "first =browser.find_element_by_xpath(xpath)\n",
    "first.click()\n",
    "time.sleep(4)"
   ]
  },
  {
   "cell_type": "code",
   "execution_count": 53,
   "id": "4e4b206a",
   "metadata": {
    "id": "4e4b206a",
    "outputId": "b1bd8e1c-25cf-4377-cfb8-0ed66c27d2f9"
   },
   "outputs": [
    {
     "name": "stderr",
     "output_type": "stream",
     "text": [
      "C:\\Users\\Faraz\\AppData\\Local\\Temp/ipykernel_9240/1868667782.py:1: DeprecationWarning: find_elements_by_* commands are deprecated. Please use find_elements() instead\n",
      "  posts=browser.find_elements_by_class_name('_9AhH0')\n"
     ]
    }
   ],
   "source": [
    "posts=browser.find_elements_by_class_name('_9AhH0')\n"
   ]
  },
  {
   "cell_type": "code",
   "execution_count": 56,
   "id": "af2286b5",
   "metadata": {
    "id": "af2286b5",
    "outputId": "c1cb9902-c543-4db7-8b82-4c7474c57e95"
   },
   "outputs": [
    {
     "name": "stderr",
     "output_type": "stream",
     "text": [
      "C:\\Users\\Faraz\\AppData\\Local\\Temp/ipykernel_9240/3977843145.py:6: DeprecationWarning: find_element_by_* commands are deprecated. Please use find_element() instead\n",
      "  user_id= browser.find_element_by_xpath('/html/body/div[5]/div[3]/div/article/div/div[2]/div/div/div[2]/div[1]/ul/div/li/div/div/div[2]/h2/div/span/a')\n",
      "C:\\Users\\Faraz\\AppData\\Local\\Programs\\Python\\Python38\\lib\\site-packages\\selenium\\webdriver\\remote\\webelement.py:393: UserWarning: find_element_by_* commands are deprecated. Please use find_element() instead\n",
      "  warnings.warn(\"find_element_by_* commands are deprecated. Please use find_element() instead\")\n"
     ]
    }
   ],
   "source": [
    "ids_list=[]\n",
    "# get IDs:\n",
    "for post in posts[0:m]:\n",
    "    post.click()\n",
    "    time.sleep(4)\n",
    "    user_id= browser.find_element_by_xpath('/html/body/div[5]/div[3]/div/article/div/div[2]/div/div/div[2]/div[1]/ul/div/li/div/div/div[2]/h2/div/span/a')\n",
    "    x=user_id.text\n",
    "    ids_list.append(x)\n",
    "    x_btn=post.find_element_by_xpath('/html/body/div[5]/div[1]/button')\n",
    "    x_btn.click()"
   ]
  },
  {
   "cell_type": "code",
   "execution_count": 57,
   "id": "447b2b38",
   "metadata": {
    "id": "447b2b38"
   },
   "outputs": [],
   "source": [
    "def make_json(i):\n",
    "    os.system(COMMAND.format(username , password , ids_list[i] , m))"
   ]
  },
  {
   "cell_type": "code",
   "execution_count": 58,
   "id": "2a4d2df3",
   "metadata": {
    "id": "2a4d2df3"
   },
   "outputs": [],
   "source": [
    "threads=[]\n",
    "for i in range (n):\n",
    "    t = threading.Thread(target=make_json , args=[i])\n",
    "    t.start()\n",
    "    threads.append(t)\n",
    "for thread in threads:\n",
    "    thread.join()"
   ]
  },
  {
   "cell_type": "code",
   "execution_count": null,
   "id": "4382d35d",
   "metadata": {
    "id": "4382d35d"
   },
   "outputs": [],
   "source": []
  },
  {
   "cell_type": "code",
   "execution_count": null,
   "id": "36e7f841",
   "metadata": {
    "id": "36e7f841"
   },
   "outputs": [],
   "source": []
  },
  {
   "cell_type": "code",
   "execution_count": 67,
   "id": "5d3631bf",
   "metadata": {
    "id": "5d3631bf"
   },
   "outputs": [],
   "source": [
    "df = pd.DataFrame(columns=['User','LikesNumber', 'URL','UserWhoComment','comment'],)"
   ]
  },
  {
   "cell_type": "code",
   "execution_count": 68,
   "id": "13328d28",
   "metadata": {
    "id": "13328d28",
    "outputId": "6760864a-5f4d-4471-bf0e-69154baeb152"
   },
   "outputs": [],
   "source": [
    "threads=[]"
   ]
  },
  {
   "cell_type": "code",
   "execution_count": 69,
   "id": "55234e8d",
   "metadata": {
    "id": "55234e8d"
   },
   "outputs": [],
   "source": [
    "def get_info(name ): \n",
    " \n",
    "    # name = 'lagambetasports'  \n",
    "    with open('.\\{}\\{}.json'.format(name,name) , encoding=\"utf8\") as f:\n",
    "        data = json.loads(f.read())\n",
    "    #     print(data['GraphImages'][0])\n",
    "    secs=[]\n",
    "    for i in range(m):\n",
    "        like_num = data['GraphImages'][i]['edge_media_preview_like']['count']\n",
    "        url=data['GraphImages'][i]['display_url']\n",
    "        \n",
    "        user=data['GraphImages'][i]['username']\n",
    "        for j in range (int(data['GraphImages'][i]['edge_media_to_comment']['count'])):\n",
    "            new_row = {'User':user,'LikesNumber': like_num,'URL': url,'UserWhoComments': data['GraphImages'][i]['comments']['data'][j]['owner']['username'] , 'comment': data['GraphImages'][i]['comments']['data'][j]['text']}    \n",
    "            # df.iloc[1] = [user, like_num, url, data['GraphImages'][i]['comments']['data'][j]['owner']['username'] ,  data['GraphImages'][i]['comments']['data'][j]['text'] ]  \n",
    "            # ['User','LikesNumber', 'URL','UserWhoComments','comment']\n",
    "            secs.append(new_row)\n",
    "            # d = d.append(*secs , ignore_index=True)\n",
    "            s = pd.Series([user , like_num , url , data['GraphImages'][i]['comments']['data'][j]['owner']['username'] ,data['GraphImages'][i]['comments']['data'][j]['text'] ],index=['User','LikesNumber', 'URL','UserWhoComments','comment'])\n",
    "            df.loc[len(df)] =[user, like_num, url, data['GraphImages'][i]['comments']['data'][j]['owner']['username'] ,  data['GraphImages'][i]['comments']['data'][j]['text'] ] \n",
    "\n",
    "    #  df = df.append(s,ignore_index=True)\n",
    "    # for i in range(m):\n",
    "    #     d = d.append(secs , ignore_index=True)\n",
    "    #     print(*secs,end='\\n')"
   ]
  },
  {
   "cell_type": "code",
   "execution_count": null,
   "id": "5ae4f565",
   "metadata": {
    "id": "5ae4f565"
   },
   "outputs": [],
   "source": []
  },
  {
   "cell_type": "code",
   "execution_count": 72,
   "id": "47a218eb",
   "metadata": {
    "id": "47a218eb"
   },
   "outputs": [],
   "source": [
    "\n",
    "for id in ids_list:\n",
    "    t = threading.Thread(target=get_info , args=[id])\n",
    "    t.start()\n",
    "    threads.append(t)\n",
    "for thread in threads:\n",
    "    thread.join()"
   ]
  },
  {
   "cell_type": "code",
   "execution_count": 20,
   "id": "4769290f",
   "metadata": {
    "id": "4769290f",
    "outputId": "7d68b12b-4703-493a-e445-1bd4edd7578a"
   },
   "outputs": [],
   "source": [
    "df.to_excel('RESULTS.xlsx')"
   ]
  },
  {
   "cell_type": "code",
   "execution_count": 75,
   "id": "661b0432",
   "metadata": {},
   "outputs": [],
   "source": [
    "end= time.perf_counter()"
   ]
  },
  {
   "cell_type": "code",
   "execution_count": 76,
   "id": "652d10d9",
   "metadata": {
    "id": "652d10d9",
    "outputId": "e1d4c552-0a26-4b5e-d56a-cafae149a446",
    "scrolled": true
   },
   "outputs": [],
   "source": [
    "taken_time = end - start\n"
   ]
  },
  {
   "cell_type": "code",
   "execution_count": 97,
   "id": "f9213416",
   "metadata": {},
   "outputs": [],
   "source": [
    "\n",
    "class MyWindow:\n",
    "    def __init__(self, win):\n",
    "        self.lbl1=Label(win, text='USERNAME:')\n",
    "        self.lbl2=Label(win, text='PASSWORD:')\n",
    "        self.lbl3=Label(win, text='m(for posts):')\n",
    "        self.lbl4=Label(win, text='n(for pages):')\n",
    "        self.lbl5=Label(win, text='HASHTAG:')\n",
    "        self.t1=Entry(bd=3)\n",
    "        self.t2=Entry()\n",
    "        self.t3=Entry()\n",
    "        self.t4=Entry()\n",
    "        self.t5=Entry()\n",
    "        self.btn6 = Button(win, text='GO!')\n",
    "        self.lbl1.place(x=100, y=50)\n",
    "        self.t1.place(x=200, y=50)\n",
    "        self.lbl2.place(x=100, y=100)\n",
    "        self.t2.place(x=200, y=100)\n",
    "        self.lbl3.place(x=100, y=150)\n",
    "        self.t3.place(x=200, y=150)\n",
    "        self.lbl4.place(x=100, y=200)\n",
    "        self.t4.place(x=200, y=200)\n",
    "        self.lbl5.place(x=100, y=250)\n",
    "        self.t5.place(x=200, y=250)\n",
    "        self.b1=Button(win, text='GO!', command=self.go) \n",
    "        self.b1.place(x=150, y=300)\n",
    "        self.tn=Entry()\n",
    "        self.tn.place(x=150, y=400)\n",
    "    def go(self):\n",
    "        num_n=int(self.t3.get())\n",
    "        num_m=int(self.t4.get())\n",
    "        h=self.t5.get()\n",
    "        u=self.t1.get()\n",
    "        p=self.t2.get()\n",
    "        result=scrap(u,p,n,m,h)\n",
    "        self.t3.insert(END, str(result))\n",
    "        "
   ]
  },
  {
   "cell_type": "code",
   "execution_count": 98,
   "id": "272587d0",
   "metadata": {},
   "outputs": [],
   "source": [
    "window=Tk()\n",
    "mywin=MyWindow(window)\n",
    "window.title('Hello Python')\n",
    "window.geometry(\"400x600+10+10\")\n",
    "window.mainloop()"
   ]
  },
  {
   "cell_type": "code",
   "execution_count": null,
   "id": "842e81cb",
   "metadata": {},
   "outputs": [],
   "source": []
  }
 ],
 "metadata": {
  "colab": {
   "name": "FARAZMAND .ipynb",
   "provenance": []
  },
  "kernelspec": {
   "display_name": "Python 3 (ipykernel)",
   "language": "python",
   "name": "python3"
  },
  "language_info": {
   "codemirror_mode": {
    "name": "ipython",
    "version": 3
   },
   "file_extension": ".py",
   "mimetype": "text/x-python",
   "name": "python",
   "nbconvert_exporter": "python",
   "pygments_lexer": "ipython3",
   "version": "3.8.5"
  }
 },
 "nbformat": 4,
 "nbformat_minor": 5
}
