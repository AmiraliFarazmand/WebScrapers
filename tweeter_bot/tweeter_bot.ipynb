{
 "cells": [
  {
   "cell_type": "code",
   "execution_count": 1,
   "metadata": {},
   "outputs": [],
   "source": [
    "\n",
    "import selenium\n",
    "\n",
    "from selenium import webdriver"
   ]
  },
  {
   "cell_type": "code",
   "execution_count": 3,
   "metadata": {},
   "outputs": [
    {
     "name": "stderr",
     "output_type": "stream",
     "text": [
      "C:\\Users\\Faraz\\AppData\\Local\\Temp/ipykernel_12372/4173105921.py:1: DeprecationWarning: executable_path has been deprecated, please pass in a Service object\n",
      "  browser = webdriver.Edge('msedgedriver.exe')\n"
     ]
    }
   ],
   "source": [
    "\n",
    "browser = webdriver.Edge('msedgedriver.exe')\n",
    "browser.get('https://www.twitter.com')\n",
    "username_=''\n",
    "password_=''"
   ]
  },
  {
   "cell_type": "code",
   "execution_count": 4,
   "metadata": {},
   "outputs": [],
   "source": [
    "browser.set_window_size(2000,1200)"
   ]
  },
  {
   "cell_type": "code",
   "execution_count": 5,
   "metadata": {},
   "outputs": [
    {
     "name": "stderr",
     "output_type": "stream",
     "text": [
      "C:\\Users\\Faraz\\AppData\\Local\\Temp/ipykernel_12372/150390207.py:3: DeprecationWarning: find_element_by_* commands are deprecated. Please use find_element() instead\n",
      "  login = browser.find_element_by_xpath(xpath)\n"
     ]
    }
   ],
   "source": [
    "xpath = '//*[@id=\"react-root\"]/div/div/div/main/div/div/div[1]/div[1]/div/div[3]/div[5]/a/div'\n",
    "\n",
    "login = browser.find_element_by_xpath(xpath)\n",
    "\n",
    "login.click()"
   ]
  },
  {
   "cell_type": "code",
   "execution_count": 6,
   "metadata": {},
   "outputs": [
    {
     "name": "stderr",
     "output_type": "stream",
     "text": [
      "C:\\Users\\Faraz\\AppData\\Local\\Temp/ipykernel_12372/304964070.py:3: DeprecationWarning: find_element_by_* commands are deprecated. Please use find_element() instead\n",
      "  username = browser.find_element_by_xpath(xpath)\n"
     ]
    }
   ],
   "source": [
    "#v1\n",
    "xpath = '//*[@id=\"layers\"]/div/div/div/div/div/div/div[2]/div[2]/div/div/div[2]/div[2]/div[1]/div/div[5]/label/div/div[2]/div/input'\n",
    "username = browser.find_element_by_xpath(xpath)\n",
    "\n",
    "username.send_keys(username_)\n"
   ]
  },
  {
   "cell_type": "code",
   "execution_count": null,
   "metadata": {},
   "outputs": [],
   "source": [
    "# # v2:\n",
    "# import time \n",
    "# time.sleep(4)\n",
    "\n",
    "# email_of_user =''\n",
    "# password_of_user=''\n",
    "# email = browser.find_element_by_name('session[username_or_email]')\n",
    "# password = browser.find_element_by_name('session[password]')\n",
    "\n",
    "\n",
    "# email.clear()\n",
    "# password.clear()\n",
    "# email.send_keys(email_of_user)\n",
    "# password.send_keys(password_of_user)\n",
    "\n",
    "# time.sleep(10)\n",
    "\n"
   ]
  },
  {
   "cell_type": "code",
   "execution_count": 7,
   "metadata": {},
   "outputs": [
    {
     "name": "stderr",
     "output_type": "stream",
     "text": [
      "C:\\Users\\Faraz\\AppData\\Local\\Temp/ipykernel_12372/1158390146.py:1: DeprecationWarning: find_element_by_* commands are deprecated. Please use find_element() instead\n",
      "  next_ = browser.find_element_by_xpath('//*[@id=\"layers\"]/div/div/div/div/div/div/div[2]/div[2]/div/div/div[2]/div[2]/div[1]/div/div[6]')\n"
     ]
    }
   ],
   "source": [
    "\n",
    "next_ = browser.find_element_by_xpath('//*[@id=\"layers\"]/div/div/div/div/div/div/div[2]/div[2]/div/div/div[2]/div[2]/div[1]/div/div[6]')\n",
    "\n",
    "next_.click()\n"
   ]
  },
  {
   "cell_type": "code",
   "execution_count": 8,
   "metadata": {},
   "outputs": [
    {
     "name": "stderr",
     "output_type": "stream",
     "text": [
      "C:\\Users\\Faraz\\AppData\\Local\\Temp/ipykernel_12372/3881058180.py:3: DeprecationWarning: find_element_by_* commands are deprecated. Please use find_element() instead\n",
      "  password = browser.find_element_by_xpath(xpath)\n"
     ]
    }
   ],
   "source": [
    "\n",
    "xpath = '//*[@id=\"layers\"]/div/div/div/div/div/div/div[2]/div[2]/div/div/div[2]/div[2]/div[1]/div/div[3]/div/label/div/div[2]/div[1]/input'\n",
    "\n",
    "password = browser.find_element_by_xpath(xpath)\n",
    "\n",
    "password.send_keys(password_)\n"
   ]
  },
  {
   "cell_type": "code",
   "execution_count": 9,
   "metadata": {},
   "outputs": [
    {
     "name": "stderr",
     "output_type": "stream",
     "text": [
      "C:\\Users\\Faraz\\AppData\\Local\\Temp/ipykernel_12372/1179974787.py:3: DeprecationWarning: find_element_by_* commands are deprecated. Please use find_element() instead\n",
      "  login = browser.find_element_by_xpath(xpath)\n"
     ]
    }
   ],
   "source": [
    "\n",
    "xpath ='//*[@id=\"layers\"]/div/div/div/div/div/div/div[2]/div[2]/div/div/div[2]/div[2]/div[2]/div/div'\n",
    "\n",
    "login = browser.find_element_by_xpath(xpath)\n",
    "\n",
    "login.click()\n"
   ]
  },
  {
   "cell_type": "code",
   "execution_count": 10,
   "metadata": {},
   "outputs": [
    {
     "name": "stderr",
     "output_type": "stream",
     "text": [
      "C:\\Users\\Faraz\\AppData\\Local\\Temp/ipykernel_12372/583750501.py:3: DeprecationWarning: find_element_by_* commands are deprecated. Please use find_element() instead\n",
      "  input_name = browser.find_element_by_xpath(xpath)\n"
     ]
    }
   ],
   "source": [
    "xpath = '//*[@id=\"react-root\"]/div/div/div[2]/main/div/div/div/div[2]/div/div[2]/div/div/div/div[1]/div/div/div/form/div[1]/div/div/label/div[2]/div/input'\n",
    "\n",
    "input_name = browser.find_element_by_xpath(xpath)\n",
    "\n",
    "input_name.send_keys('@Ahmadinejad1956')"
   ]
  },
  {
   "cell_type": "code",
   "execution_count": 11,
   "metadata": {},
   "outputs": [
    {
     "name": "stderr",
     "output_type": "stream",
     "text": [
      "C:\\Users\\Faraz\\AppData\\Local\\Temp/ipykernel_12372/2996854303.py:3: DeprecationWarning: find_element_by_* commands are deprecated. Please use find_element() instead\n",
      "  user= browser.find_element_by_xpath(xpath)\n"
     ]
    }
   ],
   "source": [
    "xpath ='//*[@id=\"typeaheadDropdown-1\"]/div[3]/div/div/div/div[2]/div[1]/div/div/div[1]/div[1]/span/span'\n",
    "\n",
    "user= browser.find_element_by_xpath(xpath)\n",
    "user.click()"
   ]
  },
  {
   "cell_type": "code",
   "execution_count": 12,
   "metadata": {},
   "outputs": [
    {
     "name": "stderr",
     "output_type": "stream",
     "text": [
      "C:\\Users\\Faraz\\AppData\\Local\\Temp/ipykernel_12372/2980708702.py:2: DeprecationWarning: find_element_by_* commands are deprecated. Please use find_element() instead\n",
      "  like_sec = browser.find_element_by_xpath(xpath)\n"
     ]
    }
   ],
   "source": [
    "xpath = '//*[@id=\"react-root\"]/div/div/div[2]/main/div/div/div/div[1]/div/div[2]/div/div/nav/div/div[2]/div/div[4]/a/div/span'\n",
    "like_sec = browser.find_element_by_xpath(xpath)\n",
    "like_sec.click()"
   ]
  },
  {
   "cell_type": "code",
   "execution_count": null,
   "metadata": {},
   "outputs": [],
   "source": [
    "# import time\n",
    "# for i in range(5):\n",
    "\n",
    "#     browser.find_element_by_xpath(\"//div[@data-testid='like']\").click()\n",
    "   \n",
    "\n",
    "#     time.sleep(1)\n",
    "#     browser.execute_script('window.scrollTo(0,document.body.scrollHeight/1.5)') \n",
    "#     time.sleep(5)"
   ]
  },
  {
   "cell_type": "code",
   "execution_count": 14,
   "metadata": {},
   "outputs": [],
   "source": [
    "import time\n",
    "previous_height = browser.execute_script('return document.body.scrollHeight') \n",
    "count = 0\n",
    "while True:\n",
    "    browser.execute_script('window.scrollTo(0, document.body.scrollHeight)')\n",
    "    current_height = browser.execute_script('return document.body.scrollHeight') \n",
    "    time.sleep(2)\n",
    "    if previous_height == current_height:\n",
    "        count += 1\n",
    "        if count == 3:\n",
    "            break\n",
    "    else:\n",
    "        count = 0\n",
    "    previous_height = current_height"
   ]
  },
  {
   "cell_type": "code",
   "execution_count": 15,
   "metadata": {},
   "outputs": [],
   "source": [
    "xpath1='//*[@id=\"react-root\"]/div/div/div[2]/main/div/div/div/div/div/div[2]/div/div/div[2]/section/div/div/div[8]/div/div/article'\n",
    "xpath2='//*[@id=\"react-root\"]/div/div/div[2]/main/div/div/div/div/div/div[2]/div/div/div[2]/section/div/div/div[2]/div/div/article'\n",
    "xpath3='//*[@id=\"react-root\"]/div/div/div[2]/main/div/div/div/div/div/div[2]/div/div/div[2]/section/div/div/div[1]/div/div/article'"
   ]
  },
  {
   "cell_type": "code",
   "execution_count": 41,
   "metadata": {},
   "outputs": [
    {
     "name": "stdout",
     "output_type": "stream",
     "text": [
      "<class 'selenium.webdriver.remote.webelement.WebElement'>\n",
      "<class 'selenium.webdriver.edge.webdriver.WebDriver'>\n"
     ]
    },
    {
     "name": "stderr",
     "output_type": "stream",
     "text": [
      "C:\\Users\\Faraz\\AppData\\Local\\Temp/ipykernel_12372/3857674733.py:2: DeprecationWarning: find_element_by_* commands are deprecated. Please use find_element() instead\n",
      "  post = browser.find_element_by_xpath(f'//*[@id=\"react-root\"]/div/div/div[2]/main/div/div/div/div/div/div[2]/div/div/div[2]/section/div/div/div[{i}]/div/div/article')\n"
     ]
    }
   ],
   "source": [
    "i=1\n",
    "post = browser.find_element_by_xpath(f'//*[@id=\"react-root\"]/div/div/div[2]/main/div/div/div/div/div/div[2]/div/div/div[2]/section/div/div/div[{i}]/div/div/article')\n",
    "print(type(post))\n",
    "print(type(browser))\n",
    "\n",
    "        "
   ]
  },
  {
   "cell_type": "code",
   "execution_count": null,
   "metadata": {},
   "outputs": [],
   "source": [
    "# css-901oao css-16my406 r-poiln3 r-bcqeeo r-qvutc0\n",
    "# css-901oao css-16my406 r-poiln3 r-bcqeeo r-qvutc0 __web-inspector-hide-shortcut__\n",
    "# css-901oao css-16my406 r-poiln3 r-bcqeeo r-qvutc0"
   ]
  },
  {
   "cell_type": "code",
   "execution_count": 36,
   "metadata": {},
   "outputs": [
    {
     "name": "stdout",
     "output_type": "stream",
     "text": [
      "[<selenium.webdriver.remote.webelement.WebElement (session=\"d054c343cbf967d0925ab41e1f593414\", element=\"77df750c-cc77-4a57-bed7-24cfac99da18\")>]\n"
     ]
    },
    {
     "name": "stderr",
     "output_type": "stream",
     "text": [
      "C:\\Users\\Faraz\\AppData\\Local\\Temp/ipykernel_12372/2969492787.py:1: DeprecationWarning: find_elements_by_* commands are deprecated. Please use find_elements() instead\n",
      "  ids=browser.find_elements_by_xpath(xpath3)\n"
     ]
    }
   ],
   "source": [
    "\n",
    "# ids=browser.find_elements_by_xpath()\n",
    "# print(ids)"
   ]
  }
 ],
 "metadata": {
  "interpreter": {
   "hash": "43a26f9190acc798bfc84a5ce98363d373ca8ee9e509bc5a5a271bb56d51be51"
  },
  "kernelspec": {
   "display_name": "Python 3.8.5 64-bit",
   "language": "python",
   "name": "python3"
  },
  "language_info": {
   "codemirror_mode": {
    "name": "ipython",
    "version": 3
   },
   "file_extension": ".py",
   "mimetype": "text/x-python",
   "name": "python",
   "nbconvert_exporter": "python",
   "pygments_lexer": "ipython3",
   "version": "3.8.5"
  },
  "orig_nbformat": 4
 },
 "nbformat": 4,
 "nbformat_minor": 2
}
