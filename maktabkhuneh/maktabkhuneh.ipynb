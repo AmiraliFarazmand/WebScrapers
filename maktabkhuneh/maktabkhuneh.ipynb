{
 "cells": [
  {
   "cell_type": "code",
   "execution_count": 2,
   "id": "ac02d1a7",
   "metadata": {},
   "outputs": [
    {
     "name": "stdout",
     "output_type": "stream",
     "text": [
      "Requirement already satisfied: pandas in c:\\users\\faraz\\appdata\\local\\programs\\python\\python38\\lib\\site-packages (1.3.5)\n",
      "Requirement already satisfied: python-dateutil>=2.7.3 in c:\\users\\faraz\\appdata\\local\\programs\\python\\python38\\lib\\site-packages (from pandas) (2.8.2)\n",
      "Requirement already satisfied: pytz>=2017.3 in c:\\users\\faraz\\appdata\\local\\programs\\python\\python38\\lib\\site-packages (from pandas) (2021.3)\n",
      "Requirement already satisfied: numpy>=1.17.3 in c:\\users\\faraz\\appdata\\local\\programs\\python\\python38\\lib\\site-packages (from pandas) (1.21.4)\n",
      "Requirement already satisfied: six>=1.5 in c:\\users\\faraz\\appdata\\local\\programs\\python\\python38\\lib\\site-packages (from python-dateutil>=2.7.3->pandas) (1.16.0)\n"
     ]
    }
   ],
   "source": [
    "!pip install pandas\n"
   ]
  },
  {
   "cell_type": "code",
   "execution_count": 3,
   "id": "dde1f0c2",
   "metadata": {},
   "outputs": [
    {
     "name": "stdout",
     "output_type": "stream",
     "text": [
      "Requirement already satisfied: bs4 in c:\\users\\faraz\\appdata\\local\\programs\\python\\python38\\lib\\site-packages (0.0.1)\n",
      "Requirement already satisfied: beautifulsoup4 in c:\\users\\faraz\\appdata\\local\\programs\\python\\python38\\lib\\site-packages (from bs4) (4.10.0)\n",
      "Requirement already satisfied: soupsieve>1.2 in c:\\users\\faraz\\appdata\\local\\programs\\python\\python38\\lib\\site-packages (from beautifulsoup4->bs4) (2.3.1)\n"
     ]
    }
   ],
   "source": [
    "!pip install bs4"
   ]
  },
  {
   "cell_type": "code",
   "execution_count": 4,
   "id": "aeaae68c",
   "metadata": {
    "scrolled": true
   },
   "outputs": [
    {
     "name": "stdout",
     "output_type": "stream",
     "text": [
      "Requirement already satisfied: requests in c:\\users\\faraz\\appdata\\local\\programs\\python\\python38\\lib\\site-packages (2.26.0)\n",
      "Requirement already satisfied: charset-normalizer~=2.0.0 in c:\\users\\faraz\\appdata\\local\\programs\\python\\python38\\lib\\site-packages (from requests) (2.0.9)\n",
      "Requirement already satisfied: idna<4,>=2.5 in c:\\users\\faraz\\appdata\\local\\programs\\python\\python38\\lib\\site-packages (from requests) (3.3)\n",
      "Requirement already satisfied: certifi>=2017.4.17 in c:\\users\\faraz\\appdata\\local\\programs\\python\\python38\\lib\\site-packages (from requests) (2021.10.8)\n",
      "Requirement already satisfied: urllib3<1.27,>=1.21.1 in c:\\users\\faraz\\appdata\\local\\programs\\python\\python38\\lib\\site-packages (from requests) (1.26.7)\n"
     ]
    }
   ],
   "source": [
    "!pip install requests "
   ]
  },
  {
   "cell_type": "code",
   "execution_count": 48,
   "id": "aaedd8d1",
   "metadata": {},
   "outputs": [],
   "source": [
    "import requests\n",
    "from bs4 import BeautifulSoup\n",
    "import pandas as pd"
   ]
  },
  {
   "cell_type": "code",
   "execution_count": 63,
   "id": "672db9ac",
   "metadata": {
    "scrolled": true
   },
   "outputs": [],
   "source": [
    "import threading\n"
   ]
  },
  {
   "cell_type": "code",
   "execution_count": 83,
   "id": "73f877b9",
   "metadata": {},
   "outputs": [],
   "source": [
    "data = []\n",
    "\n",
    "def find_datas(i):\n",
    "    #gets all our data within the table and adds it to our dataframe\n",
    "#     for i in range(1,6):\n",
    "        url = f'https://maktabkhooneh.org/learn/%D8%B2%D8%A8%D8%A7%D9%86%D9%87%D8%A7%DB%8C-%D8%A8%D8%B1%D9%86%D8%A7%D9%85%D9%87-%D9%86%D9%88%DB%8C%D8%B3%DB%8C-mk76/?p={i}&'\n",
    "        page = requests.get(url)\n",
    "        soup = BeautifulSoup(page.text, 'html.parser')\n",
    "\n",
    "        courses = soup.find_all('div', class_ = 'side-margin bottom-margin js-filter-item active-item')\n",
    "\n",
    "        for course in courses:\n",
    "            #Title:\n",
    "            row_data = []\n",
    "            try:\n",
    "                row_data.append(course['title'])\n",
    "            except:\n",
    "                row_data.append('')\n",
    "            #Teacher:\n",
    "            try:\n",
    "                row_data.append(course.find('div', class_ = 'course-card__teacher').text.strip())\n",
    "            except:\n",
    "                row_data.append('')\n",
    "            #School:\n",
    "            try:\n",
    "                row_data.append(course.find('div', class_ = 'course-card__uni-title').text.strip())\n",
    "            except:\n",
    "                row_data.append('')\n",
    "            #Link:\n",
    "            try:\n",
    "                row_data.append('https://maktabkhooneh.org'+course.find('a', class_ = 'course-card__wrapper')['href'])\n",
    "            except:\n",
    "                row_data.append('')\n",
    "            #Price\n",
    "            price_url ='https://maktabkhooneh.org'+course.find('a', class_ = 'course-card__wrapper')['href']+'purchase/?type=FULL'\n",
    "            price_page = requests.get(price_url)\n",
    "            price_soup = BeautifulSoup(price_page.text, 'html.parser')\n",
    "            try:\n",
    "                p = price_soup.find('span', {'id' : 'final_value'}).text\n",
    "                row_data.append(int(p.split()[0].replace(',','')))\n",
    "            except:\n",
    "                row_data.append(0)\n",
    "            #Time:\n",
    "            time_url ='https://maktabkhooneh.org' + course.find('a', class_ = 'course-card__wrapper')['href']\n",
    "            time_page = requests.get(time_url)\n",
    "            time_soup = BeautifulSoup(time_page.text , 'html.parser')\n",
    "    #         print(time_url,'8'*10 )\n",
    "            try:\n",
    "    #             print(time_url , '\\n')\n",
    "                t_list=[]\n",
    "                t_list = time_soup.find_all('div', class_='course-information__value')#.text.strip()# age .text nabashe nemire too exception\n",
    "    #             print(t_list)\n",
    "                row_data.append(t_list[0].text)\n",
    "            except:\n",
    "                row_data.append(0)\n",
    "    #             print('exception!')\n",
    "            #Sessions:\n",
    "            try:\n",
    "                sc_list = time_soup.find_all('div' , class_='h-slider__wrapper')\n",
    "                sc= len(sc_list)\n",
    "                row_data.append(sc)\n",
    "            except:\n",
    "                row_data.append(0)\n",
    "    #             print('exception!')\n",
    "\n",
    "            data.append(row_data)\n"
   ]
  },
  {
   "cell_type": "code",
   "execution_count": 84,
   "id": "1e614961",
   "metadata": {},
   "outputs": [],
   "source": [
    "threads=[]\n",
    "for i in range(5):\n",
    "     t = threading.Thread(target=find_datas , args=[i])\n",
    "     t.start()\n",
    "     threads.append(t)\n",
    "\n",
    "for thread in threads:\n",
    "    thread.join()\n",
    "    \n"
   ]
  },
  {
   "cell_type": "code",
   "execution_count": 85,
   "id": "1c99740e",
   "metadata": {},
   "outputs": [],
   "source": [
    "headers = ['عنوان', 'مدرس', 'آموزشگاه', 'لینک', 'قیمت', 'ساعت', 'جلسات']\n",
    "#Creates a dataframe using the column headers from our table\n",
    "df = pd.DataFrame(data, columns = headers)\n",
    "fdf=df.sort_values(by =['عنوان', 'مدرس','آموزشگاه','لینک','قیمت','جلسات','ساعت'])"
   ]
  },
  {
   "cell_type": "code",
   "execution_count": 94,
   "id": "23d5c621",
   "metadata": {},
   "outputs": [],
   "source": [
    "fdf.to_csv('maktabkhooneh_99522329.csv')"
   ]
  },
  {
   "cell_type": "code",
   "execution_count": 91,
   "id": "92fcc649",
   "metadata": {
    "scrolled": true
   },
   "outputs": [
    {
     "data": {
      "text/plain": [
       "75"
      ]
     },
     "execution_count": 91,
     "metadata": {},
     "output_type": "execute_result"
    }
   ],
   "source": [
    "len(fdf)\n",
    "#75 = 15 * 5\n",
    "# baeed midoonam ke dochaare race condition nashodim!"
   ]
  },
  {
   "cell_type": "code",
   "execution_count": 99,
   "id": "f03ab465",
   "metadata": {},
   "outputs": [],
   "source": [
    "fdf.to_excel('maktabkhooneh_99522329.xlsx')"
   ]
  },
  {
   "cell_type": "code",
   "execution_count": 95,
   "id": "dac4f167",
   "metadata": {},
   "outputs": [
    {
     "name": "stdout",
     "output_type": "stream",
     "text": [
      "Collecting openpyxl\n",
      "  Downloading openpyxl-3.0.9-py2.py3-none-any.whl (242 kB)\n",
      "Collecting et-xmlfile\n",
      "  Downloading et_xmlfile-1.1.0-py3-none-any.whl (4.7 kB)\n",
      "Installing collected packages: et-xmlfile, openpyxl\n",
      "Successfully installed et-xmlfile-1.1.0 openpyxl-3.0.9\n"
     ]
    }
   ],
   "source": [
    "!pip install openpyxl\n"
   ]
  }
 ],
 "metadata": {
  "kernelspec": {
   "display_name": "Python 3 (ipykernel)",
   "language": "python",
   "name": "python3"
  },
  "language_info": {
   "codemirror_mode": {
    "name": "ipython",
    "version": 3
   },
   "file_extension": ".py",
   "mimetype": "text/x-python",
   "name": "python",
   "nbconvert_exporter": "python",
   "pygments_lexer": "ipython3",
   "version": "3.8.5"
  }
 },
 "nbformat": 4,
 "nbformat_minor": 5
}
